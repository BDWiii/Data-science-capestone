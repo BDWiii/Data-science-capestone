{
  "cells": [
    {
      "cell_type": "markdown",
      "metadata": {
        "id": "a6db7f9d-eccd-42cc-8e72-a972b93804eb"
      },
      "source": [
        "<p style=\"text-align:center\">\n",
        "    <a href=\"https://skills.network\" target=\"_blank\">\n",
        "    <img src=\"https://cf-courses-data.s3.us.cloud-object-storage.appdomain.cloud/assets/logos/SN_web_lightmode.png\" width=\"200\" alt=\"Skills Network Logo\">\n",
        "    </a>\n",
        "</p>\n",
        "\n",
        "<h1 align=center><font size = 5>Assignment: SQL Notebook for Peer Assignment</font></h1>\n",
        "\n",
        "Estimated time needed: **60** minutes.\n",
        "\n",
        "## Introduction\n",
        "Using this Python notebook you will:\n",
        "\n",
        "1.  Understand the Spacex DataSet\n",
        "2.  Load the dataset  into the corresponding table in a Db2 database\n",
        "3.  Execute SQL queries to answer assignment questions\n"
      ]
    },
    {
      "cell_type": "markdown",
      "metadata": {
        "id": "21aa4653-ba36-4b60-bf1c-a94affc4f5ec"
      },
      "source": [
        "## Overview of the DataSet\n",
        "\n",
        "SpaceX has gained worldwide attention for a series of historic milestones.\n",
        "\n",
        "It is the only private company ever to return a spacecraft from low-earth orbit, which it first accomplished in December 2010.\n",
        "SpaceX advertises Falcon 9 rocket launches on its website with a cost of 62 million dollars wheras other providers cost upward of 165 million dollars each, much of the savings is because Space X can reuse the first stage.\n",
        "\n",
        "\n",
        "Therefore if we can determine if the first stage will land, we can determine the cost of a launch.\n",
        "\n",
        "This information can be used if an alternate company wants to bid against SpaceX for a rocket launch.\n",
        "\n",
        "This dataset includes a record for each payload carried during a SpaceX mission into outer space.\n"
      ]
    },
    {
      "cell_type": "markdown",
      "metadata": {
        "id": "f284e791-4a2c-4693-9443-1673a930bc58"
      },
      "source": [
        "### Download the datasets\n",
        "\n",
        "This assignment requires you to load the spacex dataset.\n",
        "\n",
        "In many cases the dataset to be analyzed is available as a .CSV (comma separated values) file, perhaps on the internet. Click on the link below to download and save the dataset (.CSV file):\n",
        "\n",
        " <a href=\"https://cf-courses-data.s3.us.cloud-object-storage.appdomain.cloud/IBM-DS0321EN-SkillsNetwork/labs/module_2/data/Spacex.csv\" target=\"_blank\">Spacex DataSet</a>\n",
        "\n"
      ]
    },
    {
      "cell_type": "code",
      "metadata": {
        "colab": {
          "base_uri": "https://localhost:8080/"
        },
        "id": "cc379498-30ef-44a6-a3e6-132d1a1cf4d9",
        "outputId": "cb48242f-d5f6-471c-bc7c-f767d4e3be8d"
      },
      "outputs": [
        {
          "output_type": "stream",
          "name": "stdout",
          "text": [
            "Requirement already satisfied: sqlalchemy in /usr/local/lib/python3.10/dist-packages (2.0.30)\n",
            "Requirement already satisfied: typing-extensions>=4.6.0 in /usr/local/lib/python3.10/dist-packages (from sqlalchemy) (4.12.2)\n",
            "Requirement already satisfied: greenlet!=0.4.17 in /usr/local/lib/python3.10/dist-packages (from sqlalchemy) (3.0.3)\n"
          ]
        }
      ],
      "source": [
        "!pip install sqlalchemy\n"
      ],
      "execution_count": 1
    },
    {
      "cell_type": "markdown",
      "metadata": {
        "id": "bee0e21a-df3b-40c9-813e-d04e7dda35af"
      },
      "source": [
        "### Connect to the database\n",
        "\n",
        "Let us first load the SQL extension and establish a connection with the database\n"
      ]
    },
    {
      "cell_type": "code",
      "metadata": {
        "id": "3686e957-c78d-4216-95a1-796f945d5b0f"
      },
      "outputs": [],
      "source": [
        "#Please uncomment and execute the code below if you are working locally.\n",
        "\n",
        "#!pip install ipython-sql"
      ],
      "execution_count": null
    },
    {
      "cell_type": "code",
      "metadata": {
        "id": "c42877fe-9204-4a2b-a68b-2e2bbae2bfab"
      },
      "outputs": [],
      "source": [
        "%load_ext sql"
      ],
      "execution_count": 2
    },
    {
      "cell_type": "code",
      "metadata": {
        "id": "1728fe99-bc73-42f4-a763-6d9f0d038bbb"
      },
      "outputs": [],
      "source": [
        "import csv, sqlite3\n",
        "\n",
        "con = sqlite3.connect(\"my_data1.db\")\n",
        "cur = con.cursor()"
      ],
      "execution_count": 3
    },
    {
      "cell_type": "code",
      "metadata": {
        "id": "ad07a3da-9da6-4ef1-8cb0-e70c9ecddab7"
      },
      "outputs": [],
      "source": [
        "!pip install -q pandas==1.1.5"
      ],
      "execution_count": null
    },
    {
      "cell_type": "code",
      "metadata": {
        "id": "a746f178-8649-4b08-98a9-a605ccee3bb3"
      },
      "outputs": [],
      "source": [
        "%sql sqlite:///my_data1.db"
      ],
      "execution_count": 4
    },
    {
      "cell_type": "code",
      "metadata": {
        "colab": {
          "base_uri": "https://localhost:8080/"
        },
        "id": "c6a274b9-51dc-494b-8954-c6d55479a2db",
        "outputId": "d5021431-d163-4f76-ef5c-ea7f978b6f7c"
      },
      "outputs": [
        {
          "output_type": "execute_result",
          "data": {
            "text/plain": [
              "101"
            ]
          },
          "metadata": {},
          "execution_count": 5
        }
      ],
      "source": [
        "import pandas as pd\n",
        "df = pd.read_csv(\"https://cf-courses-data.s3.us.cloud-object-storage.appdomain.cloud/IBM-DS0321EN-SkillsNetwork/labs/module_2/data/Spacex.csv\")\n",
        "df.to_sql(\"SPACEXTBL\", con, if_exists='replace', index=False,method=\"multi\")"
      ],
      "execution_count": 5
    },
    {
      "cell_type": "markdown",
      "metadata": {
        "id": "83bdb47f-f97a-4165-915e-9d7b60b3f44f"
      },
      "source": [
        "**Note:This below code is added to remove blank rows from table**\n"
      ]
    },
    {
      "cell_type": "code",
      "metadata": {
        "colab": {
          "base_uri": "https://localhost:8080/"
        },
        "id": "542091fc-021c-41a2-96a2-6222f9429f30",
        "outputId": "60b0dccb-ded0-4d42-d0ec-36aa474ba602"
      },
      "outputs": [
        {
          "output_type": "stream",
          "name": "stdout",
          "text": [
            " * sqlite:///my_data1.db\n",
            "Done.\n"
          ]
        },
        {
          "output_type": "execute_result",
          "data": {
            "text/plain": [
              "[]"
            ]
          },
          "metadata": {},
          "execution_count": 6
        }
      ],
      "source": [
        "%sql create table SPACEXTABLE as select * from SPACEXTBL where Date is not null"
      ],
      "execution_count": 6
    },
    {
      "cell_type": "markdown",
      "metadata": {
        "id": "05cbeacb-d9a6-49fa-8411-eb240e5a8757"
      },
      "source": [
        "## Tasks\n",
        "\n",
        "Now write and execute SQL queries to solve the assignment tasks.\n",
        "\n",
        "**Note: If the column names are in mixed case enclose it in double quotes\n",
        "   For Example \"Landing_Outcome\"**\n",
        "\n",
        "### Task 1\n",
        "\n",
        "\n",
        "\n",
        "\n",
        "##### Display the names of the unique launch sites  in the space mission\n"
      ]
    },
    {
      "cell_type": "code",
      "source": [
        "%sql SELECT Launch_Site,COUNT() FROM SPACEXTABLE GROUP BY Launch_Site"
      ],
      "metadata": {
        "colab": {
          "base_uri": "https://localhost:8080/",
          "height": 158
        },
        "id": "lY4BprKkACu3",
        "outputId": "2f262917-ddd5-4e59-d11f-d0ba76bf8e35"
      },
      "execution_count": 12,
      "outputs": [
        {
          "output_type": "stream",
          "name": "stdout",
          "text": [
            " * sqlite:///my_data1.db\n",
            "Done.\n"
          ]
        },
        {
          "output_type": "execute_result",
          "data": {
            "text/plain": [
              "[('CCAFS LC-40', 26),\n",
              " ('CCAFS SLC-40', 34),\n",
              " ('KSC LC-39A', 25),\n",
              " ('VAFB SLC-4E', 16)]"
            ],
            "text/html": [
              "<table>\n",
              "    <thead>\n",
              "        <tr>\n",
              "            <th>Launch_Site</th>\n",
              "            <th>COUNT()</th>\n",
              "        </tr>\n",
              "    </thead>\n",
              "    <tbody>\n",
              "        <tr>\n",
              "            <td>CCAFS LC-40</td>\n",
              "            <td>26</td>\n",
              "        </tr>\n",
              "        <tr>\n",
              "            <td>CCAFS SLC-40</td>\n",
              "            <td>34</td>\n",
              "        </tr>\n",
              "        <tr>\n",
              "            <td>KSC LC-39A</td>\n",
              "            <td>25</td>\n",
              "        </tr>\n",
              "        <tr>\n",
              "            <td>VAFB SLC-4E</td>\n",
              "            <td>16</td>\n",
              "        </tr>\n",
              "    </tbody>\n",
              "</table>"
            ]
          },
          "metadata": {},
          "execution_count": 12
        }
      ]
    },
    {
      "cell_type": "code",
      "metadata": {
        "colab": {
          "base_uri": "https://localhost:8080/",
          "height": 284
        },
        "id": "35c79e8e-8f45-47b2-8bae-17a803fa6e84",
        "outputId": "bc7ee2d0-2557-4712-9020-d08a2b3985df"
      },
      "outputs": [
        {
          "output_type": "stream",
          "name": "stdout",
          "text": [
            " * sqlite:///my_data1.db\n",
            "Done.\n"
          ]
        },
        {
          "output_type": "execute_result",
          "data": {
            "text/plain": [
              "[('2010-06-04', '18:45:00', 'F9 v1.0  B0003', 'CCAFS LC-40', 'Dragon Spacecraft Qualification Unit', 0, 'LEO', 'SpaceX', 'Success', 'Failure (parachute)'),\n",
              " ('2010-12-08', '15:43:00', 'F9 v1.0  B0004', 'CCAFS LC-40', 'Dragon demo flight C1, two CubeSats, barrel of Brouere cheese', 0, 'LEO (ISS)', 'NASA (COTS) NRO', 'Success', 'Failure (parachute)'),\n",
              " ('2012-05-22', '7:44:00', 'F9 v1.0  B0005', 'CCAFS LC-40', 'Dragon demo flight C2', 525, 'LEO (ISS)', 'NASA (COTS)', 'Success', 'No attempt'),\n",
              " ('2012-10-08', '0:35:00', 'F9 v1.0  B0006', 'CCAFS LC-40', 'SpaceX CRS-1', 500, 'LEO (ISS)', 'NASA (CRS)', 'Success', 'No attempt'),\n",
              " ('2013-03-01', '15:10:00', 'F9 v1.0  B0007', 'CCAFS LC-40', 'SpaceX CRS-2', 677, 'LEO (ISS)', 'NASA (CRS)', 'Success', 'No attempt'),\n",
              " ('2013-09-29', '16:00:00', 'F9 v1.1  B1003', 'VAFB SLC-4E', 'CASSIOPE', 500, 'Polar LEO', 'MDA', 'Success', 'Uncontrolled (ocean)'),\n",
              " ('2013-12-03', '22:41:00', 'F9 v1.1', 'CCAFS LC-40', 'SES-8', 3170, 'GTO', 'SES', 'Success', 'No attempt'),\n",
              " ('2014-01-06', '22:06:00', 'F9 v1.1', 'CCAFS LC-40', 'Thaicom 6', 3325, 'GTO', 'Thaicom', 'Success', 'No attempt'),\n",
              " ('2014-04-18', '19:25:00', 'F9 v1.1', 'CCAFS LC-40', 'SpaceX CRS-3', 2296, 'LEO (ISS)', 'NASA (CRS)', 'Success', 'Controlled (ocean)'),\n",
              " ('2014-07-14', '15:15:00', 'F9 v1.1', 'CCAFS LC-40', 'OG2 Mission 1  6 Orbcomm-OG2 satellites', 1316, 'LEO', 'Orbcomm', 'Success', 'Controlled (ocean)')]"
            ],
            "text/html": [
              "<table>\n",
              "    <thead>\n",
              "        <tr>\n",
              "            <th>Date</th>\n",
              "            <th>Time (UTC)</th>\n",
              "            <th>Booster_Version</th>\n",
              "            <th>Launch_Site</th>\n",
              "            <th>Payload</th>\n",
              "            <th>PAYLOAD_MASS__KG_</th>\n",
              "            <th>Orbit</th>\n",
              "            <th>Customer</th>\n",
              "            <th>Mission_Outcome</th>\n",
              "            <th>Landing_Outcome</th>\n",
              "        </tr>\n",
              "    </thead>\n",
              "    <tbody>\n",
              "        <tr>\n",
              "            <td>2010-06-04</td>\n",
              "            <td>18:45:00</td>\n",
              "            <td>F9 v1.0  B0003</td>\n",
              "            <td>CCAFS LC-40</td>\n",
              "            <td>Dragon Spacecraft Qualification Unit</td>\n",
              "            <td>0</td>\n",
              "            <td>LEO</td>\n",
              "            <td>SpaceX</td>\n",
              "            <td>Success</td>\n",
              "            <td>Failure (parachute)</td>\n",
              "        </tr>\n",
              "        <tr>\n",
              "            <td>2010-12-08</td>\n",
              "            <td>15:43:00</td>\n",
              "            <td>F9 v1.0  B0004</td>\n",
              "            <td>CCAFS LC-40</td>\n",
              "            <td>Dragon demo flight C1, two CubeSats, barrel of Brouere cheese</td>\n",
              "            <td>0</td>\n",
              "            <td>LEO (ISS)</td>\n",
              "            <td>NASA (COTS) NRO</td>\n",
              "            <td>Success</td>\n",
              "            <td>Failure (parachute)</td>\n",
              "        </tr>\n",
              "        <tr>\n",
              "            <td>2012-05-22</td>\n",
              "            <td>7:44:00</td>\n",
              "            <td>F9 v1.0  B0005</td>\n",
              "            <td>CCAFS LC-40</td>\n",
              "            <td>Dragon demo flight C2</td>\n",
              "            <td>525</td>\n",
              "            <td>LEO (ISS)</td>\n",
              "            <td>NASA (COTS)</td>\n",
              "            <td>Success</td>\n",
              "            <td>No attempt</td>\n",
              "        </tr>\n",
              "        <tr>\n",
              "            <td>2012-10-08</td>\n",
              "            <td>0:35:00</td>\n",
              "            <td>F9 v1.0  B0006</td>\n",
              "            <td>CCAFS LC-40</td>\n",
              "            <td>SpaceX CRS-1</td>\n",
              "            <td>500</td>\n",
              "            <td>LEO (ISS)</td>\n",
              "            <td>NASA (CRS)</td>\n",
              "            <td>Success</td>\n",
              "            <td>No attempt</td>\n",
              "        </tr>\n",
              "        <tr>\n",
              "            <td>2013-03-01</td>\n",
              "            <td>15:10:00</td>\n",
              "            <td>F9 v1.0  B0007</td>\n",
              "            <td>CCAFS LC-40</td>\n",
              "            <td>SpaceX CRS-2</td>\n",
              "            <td>677</td>\n",
              "            <td>LEO (ISS)</td>\n",
              "            <td>NASA (CRS)</td>\n",
              "            <td>Success</td>\n",
              "            <td>No attempt</td>\n",
              "        </tr>\n",
              "        <tr>\n",
              "            <td>2013-09-29</td>\n",
              "            <td>16:00:00</td>\n",
              "            <td>F9 v1.1  B1003</td>\n",
              "            <td>VAFB SLC-4E</td>\n",
              "            <td>CASSIOPE</td>\n",
              "            <td>500</td>\n",
              "            <td>Polar LEO</td>\n",
              "            <td>MDA</td>\n",
              "            <td>Success</td>\n",
              "            <td>Uncontrolled (ocean)</td>\n",
              "        </tr>\n",
              "        <tr>\n",
              "            <td>2013-12-03</td>\n",
              "            <td>22:41:00</td>\n",
              "            <td>F9 v1.1</td>\n",
              "            <td>CCAFS LC-40</td>\n",
              "            <td>SES-8</td>\n",
              "            <td>3170</td>\n",
              "            <td>GTO</td>\n",
              "            <td>SES</td>\n",
              "            <td>Success</td>\n",
              "            <td>No attempt</td>\n",
              "        </tr>\n",
              "        <tr>\n",
              "            <td>2014-01-06</td>\n",
              "            <td>22:06:00</td>\n",
              "            <td>F9 v1.1</td>\n",
              "            <td>CCAFS LC-40</td>\n",
              "            <td>Thaicom 6</td>\n",
              "            <td>3325</td>\n",
              "            <td>GTO</td>\n",
              "            <td>Thaicom</td>\n",
              "            <td>Success</td>\n",
              "            <td>No attempt</td>\n",
              "        </tr>\n",
              "        <tr>\n",
              "            <td>2014-04-18</td>\n",
              "            <td>19:25:00</td>\n",
              "            <td>F9 v1.1</td>\n",
              "            <td>CCAFS LC-40</td>\n",
              "            <td>SpaceX CRS-3</td>\n",
              "            <td>2296</td>\n",
              "            <td>LEO (ISS)</td>\n",
              "            <td>NASA (CRS)</td>\n",
              "            <td>Success</td>\n",
              "            <td>Controlled (ocean)</td>\n",
              "        </tr>\n",
              "        <tr>\n",
              "            <td>2014-07-14</td>\n",
              "            <td>15:15:00</td>\n",
              "            <td>F9 v1.1</td>\n",
              "            <td>CCAFS LC-40</td>\n",
              "            <td>OG2 Mission 1  6 Orbcomm-OG2 satellites</td>\n",
              "            <td>1316</td>\n",
              "            <td>LEO</td>\n",
              "            <td>Orbcomm</td>\n",
              "            <td>Success</td>\n",
              "            <td>Controlled (ocean)</td>\n",
              "        </tr>\n",
              "    </tbody>\n",
              "</table>"
            ]
          },
          "metadata": {},
          "execution_count": 44
        }
      ],
      "source": [
        "%sql SELECT * FROM SPACEXTABLE LIMIT 10"
      ],
      "execution_count": 44
    },
    {
      "cell_type": "markdown",
      "metadata": {
        "id": "315e06fc-2a9a-48c8-8755-14b8e4ff1967"
      },
      "source": [
        "\n",
        "### Task 2\n",
        "\n",
        "\n",
        "#####  Display 5 records where launch sites begin with the string 'CCA'\n"
      ]
    },
    {
      "cell_type": "code",
      "metadata": {
        "colab": {
          "base_uri": "https://localhost:8080/",
          "height": 179
        },
        "id": "49fdec56-1496-4da2-aafd-150872756fe0",
        "outputId": "9da426a3-2101-4818-bb68-98856aa218a6"
      },
      "outputs": [
        {
          "output_type": "stream",
          "name": "stdout",
          "text": [
            " * sqlite:///my_data1.db\n",
            "Done.\n"
          ]
        },
        {
          "output_type": "execute_result",
          "data": {
            "text/plain": [
              "[('2010-06-04', '18:45:00', 'F9 v1.0  B0003', 'CCAFS LC-40', 'Dragon Spacecraft Qualification Unit', 0, 'LEO', 'SpaceX', 'Success', 'Failure (parachute)'),\n",
              " ('2010-12-08', '15:43:00', 'F9 v1.0  B0004', 'CCAFS LC-40', 'Dragon demo flight C1, two CubeSats, barrel of Brouere cheese', 0, 'LEO (ISS)', 'NASA (COTS) NRO', 'Success', 'Failure (parachute)'),\n",
              " ('2012-05-22', '7:44:00', 'F9 v1.0  B0005', 'CCAFS LC-40', 'Dragon demo flight C2', 525, 'LEO (ISS)', 'NASA (COTS)', 'Success', 'No attempt'),\n",
              " ('2012-10-08', '0:35:00', 'F9 v1.0  B0006', 'CCAFS LC-40', 'SpaceX CRS-1', 500, 'LEO (ISS)', 'NASA (CRS)', 'Success', 'No attempt'),\n",
              " ('2013-03-01', '15:10:00', 'F9 v1.0  B0007', 'CCAFS LC-40', 'SpaceX CRS-2', 677, 'LEO (ISS)', 'NASA (CRS)', 'Success', 'No attempt')]"
            ],
            "text/html": [
              "<table>\n",
              "    <thead>\n",
              "        <tr>\n",
              "            <th>Date</th>\n",
              "            <th>Time (UTC)</th>\n",
              "            <th>Booster_Version</th>\n",
              "            <th>Launch_Site</th>\n",
              "            <th>Payload</th>\n",
              "            <th>PAYLOAD_MASS__KG_</th>\n",
              "            <th>Orbit</th>\n",
              "            <th>Customer</th>\n",
              "            <th>Mission_Outcome</th>\n",
              "            <th>Landing_Outcome</th>\n",
              "        </tr>\n",
              "    </thead>\n",
              "    <tbody>\n",
              "        <tr>\n",
              "            <td>2010-06-04</td>\n",
              "            <td>18:45:00</td>\n",
              "            <td>F9 v1.0  B0003</td>\n",
              "            <td>CCAFS LC-40</td>\n",
              "            <td>Dragon Spacecraft Qualification Unit</td>\n",
              "            <td>0</td>\n",
              "            <td>LEO</td>\n",
              "            <td>SpaceX</td>\n",
              "            <td>Success</td>\n",
              "            <td>Failure (parachute)</td>\n",
              "        </tr>\n",
              "        <tr>\n",
              "            <td>2010-12-08</td>\n",
              "            <td>15:43:00</td>\n",
              "            <td>F9 v1.0  B0004</td>\n",
              "            <td>CCAFS LC-40</td>\n",
              "            <td>Dragon demo flight C1, two CubeSats, barrel of Brouere cheese</td>\n",
              "            <td>0</td>\n",
              "            <td>LEO (ISS)</td>\n",
              "            <td>NASA (COTS) NRO</td>\n",
              "            <td>Success</td>\n",
              "            <td>Failure (parachute)</td>\n",
              "        </tr>\n",
              "        <tr>\n",
              "            <td>2012-05-22</td>\n",
              "            <td>7:44:00</td>\n",
              "            <td>F9 v1.0  B0005</td>\n",
              "            <td>CCAFS LC-40</td>\n",
              "            <td>Dragon demo flight C2</td>\n",
              "            <td>525</td>\n",
              "            <td>LEO (ISS)</td>\n",
              "            <td>NASA (COTS)</td>\n",
              "            <td>Success</td>\n",
              "            <td>No attempt</td>\n",
              "        </tr>\n",
              "        <tr>\n",
              "            <td>2012-10-08</td>\n",
              "            <td>0:35:00</td>\n",
              "            <td>F9 v1.0  B0006</td>\n",
              "            <td>CCAFS LC-40</td>\n",
              "            <td>SpaceX CRS-1</td>\n",
              "            <td>500</td>\n",
              "            <td>LEO (ISS)</td>\n",
              "            <td>NASA (CRS)</td>\n",
              "            <td>Success</td>\n",
              "            <td>No attempt</td>\n",
              "        </tr>\n",
              "        <tr>\n",
              "            <td>2013-03-01</td>\n",
              "            <td>15:10:00</td>\n",
              "            <td>F9 v1.0  B0007</td>\n",
              "            <td>CCAFS LC-40</td>\n",
              "            <td>SpaceX CRS-2</td>\n",
              "            <td>677</td>\n",
              "            <td>LEO (ISS)</td>\n",
              "            <td>NASA (CRS)</td>\n",
              "            <td>Success</td>\n",
              "            <td>No attempt</td>\n",
              "        </tr>\n",
              "    </tbody>\n",
              "</table>"
            ]
          },
          "metadata": {},
          "execution_count": 17
        }
      ],
      "source": [
        "%sql SELECT * FROM SPACEXTABLE WHERE Launch_Site LIKE 'CCA%' LIMIT 5"
      ],
      "execution_count": 17
    },
    {
      "cell_type": "markdown",
      "metadata": {
        "id": "6fa35ae7-0fc6-475c-8f9a-983feedfc3d8"
      },
      "source": [
        "### Task 3\n",
        "\n",
        "\n",
        "\n",
        "\n",
        "##### Display the total payload mass carried by boosters launched by NASA (CRS)\n"
      ]
    },
    {
      "cell_type": "code",
      "metadata": {
        "colab": {
          "base_uri": "https://localhost:8080/",
          "height": 95
        },
        "id": "089f0adf-50b3-4169-af41-d988e1d6817b",
        "outputId": "c4f20f97-b9bb-485e-d260-6a5cd3424ed3"
      },
      "outputs": [
        {
          "output_type": "stream",
          "name": "stdout",
          "text": [
            " * sqlite:///my_data1.db\n",
            "Done.\n"
          ]
        },
        {
          "output_type": "execute_result",
          "data": {
            "text/plain": [
              "[(45596, 'NASA (CRS)')]"
            ],
            "text/html": [
              "<table>\n",
              "    <thead>\n",
              "        <tr>\n",
              "            <th>SUM(PAYLOAD_MASS__KG_)</th>\n",
              "            <th>Customer</th>\n",
              "        </tr>\n",
              "    </thead>\n",
              "    <tbody>\n",
              "        <tr>\n",
              "            <td>45596</td>\n",
              "            <td>NASA (CRS)</td>\n",
              "        </tr>\n",
              "    </tbody>\n",
              "</table>"
            ]
          },
          "metadata": {},
          "execution_count": 22
        }
      ],
      "source": [
        "%%sql SELECT SUM(PAYLOAD_MASS__KG_)\t, CUSTOMER FROM SPACEXTABLE where CUSTOMER= 'NASA (CRS)'"
      ],
      "execution_count": 22
    },
    {
      "cell_type": "markdown",
      "metadata": {
        "id": "7c89112e-8f84-4cf0-bca2-0853fe5379eb"
      },
      "source": [
        "### Task 4\n",
        "\n",
        "\n",
        "\n",
        "\n",
        "##### Display average payload mass carried by booster version F9 v1.1\n"
      ]
    },
    {
      "cell_type": "code",
      "metadata": {
        "colab": {
          "base_uri": "https://localhost:8080/",
          "height": 95
        },
        "id": "a17aa67f-1825-4c3c-b0b1-a2052c6fdb4d",
        "outputId": "ece982a0-9015-446c-f2ce-5e0944588e21"
      },
      "outputs": [
        {
          "output_type": "stream",
          "name": "stdout",
          "text": [
            " * sqlite:///my_data1.db\n",
            "Done.\n"
          ]
        },
        {
          "output_type": "execute_result",
          "data": {
            "text/plain": [
              "[(2928.4, 'F9 v1.1')]"
            ],
            "text/html": [
              "<table>\n",
              "    <thead>\n",
              "        <tr>\n",
              "            <th>avg(PAYLOAD_MASS__KG_)</th>\n",
              "            <th>Booster_Version</th>\n",
              "        </tr>\n",
              "    </thead>\n",
              "    <tbody>\n",
              "        <tr>\n",
              "            <td>2928.4</td>\n",
              "            <td>F9 v1.1</td>\n",
              "        </tr>\n",
              "    </tbody>\n",
              "</table>"
            ]
          },
          "metadata": {},
          "execution_count": 31
        }
      ],
      "source": [
        "%sql SElECT avg(PAYLOAD_MASS__KG_), Booster_Version FROM SPACEXTABLE where Booster_Version = 'F9 v1.1'"
      ],
      "execution_count": 31
    },
    {
      "cell_type": "markdown",
      "metadata": {
        "id": "d1ae46c1-a801-4109-9d9e-5dbf9e1afdd5"
      },
      "source": [
        "### Task 5\n",
        "\n",
        "##### List the date when the first succesful landing outcome in ground pad was acheived.\n",
        "\n",
        "\n",
        "_Hint:Use min function_\n"
      ]
    },
    {
      "cell_type": "code",
      "metadata": {
        "colab": {
          "base_uri": "https://localhost:8080/",
          "height": 95
        },
        "id": "6a28c3dd-18f1-40e5-9920-42e3715ef372",
        "outputId": "abbe1848-706e-4e56-9875-78545776b388"
      },
      "outputs": [
        {
          "output_type": "stream",
          "name": "stdout",
          "text": [
            " * sqlite:///my_data1.db\n",
            "Done.\n"
          ]
        },
        {
          "output_type": "execute_result",
          "data": {
            "text/plain": [
              "[('2010-06-04',)]"
            ],
            "text/html": [
              "<table>\n",
              "    <thead>\n",
              "        <tr>\n",
              "            <th>Date_of_First_launch</th>\n",
              "        </tr>\n",
              "    </thead>\n",
              "    <tbody>\n",
              "        <tr>\n",
              "            <td>2010-06-04</td>\n",
              "        </tr>\n",
              "    </tbody>\n",
              "</table>"
            ]
          },
          "metadata": {},
          "execution_count": 33
        }
      ],
      "source": [
        "%sql SELECT min(Date) as Date_of_First_launch FROM SPACEXTABLE"
      ],
      "execution_count": 33
    },
    {
      "cell_type": "markdown",
      "metadata": {
        "id": "33174cef-51db-42e6-acb7-d590371c1348"
      },
      "source": [
        "### Task 6\n",
        "\n",
        "##### List the names of the boosters which have success in drone ship and have payload mass greater than 4000 but less than 6000\n"
      ]
    },
    {
      "cell_type": "code",
      "metadata": {
        "colab": {
          "base_uri": "https://localhost:8080/",
          "height": 515
        },
        "id": "95f0fc6a-b3ca-4bd6-8a05-1e60b17307d7",
        "outputId": "64b7c798-6a6f-4ea9-8318-fdbbe9d3f800"
      },
      "outputs": [
        {
          "output_type": "stream",
          "name": "stdout",
          "text": [
            " * sqlite:///my_data1.db\n",
            "Done.\n"
          ]
        },
        {
          "output_type": "execute_result",
          "data": {
            "text/plain": [
              "[('F9 v1.1', 4535, 'Success'),\n",
              " ('F9 v1.1 B1011', 4428, 'Success'),\n",
              " ('F9 v1.1 B1014', 4159, 'Success'),\n",
              " ('F9 v1.1 B1016', 4707, 'Success'),\n",
              " ('F9 FT B1020', 5271, 'Success'),\n",
              " ('F9 FT B1022', 4696, 'Success'),\n",
              " ('F9 FT B1026', 4600, 'Success'),\n",
              " ('F9 FT B1030', 5600, 'Success'),\n",
              " ('F9 FT  B1021.2', 5300, 'Success'),\n",
              " ('F9 FT B1032.1', 5300, 'Success'),\n",
              " ('F9 B4 B1040.1', 4990, 'Success'),\n",
              " ('F9 FT  B1031.2', 5200, 'Success'),\n",
              " ('F9 FT  B1032.2', 4230, 'Success'),\n",
              " ('F9 B4  B1040.2', 5384, 'Success'),\n",
              " ('F9 B5 B1046.2', 5800, 'Success'),\n",
              " ('F9 B5 B1047.2', 5300, 'Success'),\n",
              " ('F9 B5 B1048.3', 4850, 'Success'),\n",
              " ('F9 B5 B1051.2 ', 4200, 'Success'),\n",
              " ('F9 B5B1060.1', 4311, 'Success'),\n",
              " ('F9 B5 B1058.2 ', 5500, 'Success'),\n",
              " ('F9 B5B1062.1', 4311, 'Success')]"
            ],
            "text/html": [
              "<table>\n",
              "    <thead>\n",
              "        <tr>\n",
              "            <th>Booster_Version</th>\n",
              "            <th>PAYLOAD_MASS__KG_</th>\n",
              "            <th>Mission_Outcome</th>\n",
              "        </tr>\n",
              "    </thead>\n",
              "    <tbody>\n",
              "        <tr>\n",
              "            <td>F9 v1.1</td>\n",
              "            <td>4535</td>\n",
              "            <td>Success</td>\n",
              "        </tr>\n",
              "        <tr>\n",
              "            <td>F9 v1.1 B1011</td>\n",
              "            <td>4428</td>\n",
              "            <td>Success</td>\n",
              "        </tr>\n",
              "        <tr>\n",
              "            <td>F9 v1.1 B1014</td>\n",
              "            <td>4159</td>\n",
              "            <td>Success</td>\n",
              "        </tr>\n",
              "        <tr>\n",
              "            <td>F9 v1.1 B1016</td>\n",
              "            <td>4707</td>\n",
              "            <td>Success</td>\n",
              "        </tr>\n",
              "        <tr>\n",
              "            <td>F9 FT B1020</td>\n",
              "            <td>5271</td>\n",
              "            <td>Success</td>\n",
              "        </tr>\n",
              "        <tr>\n",
              "            <td>F9 FT B1022</td>\n",
              "            <td>4696</td>\n",
              "            <td>Success</td>\n",
              "        </tr>\n",
              "        <tr>\n",
              "            <td>F9 FT B1026</td>\n",
              "            <td>4600</td>\n",
              "            <td>Success</td>\n",
              "        </tr>\n",
              "        <tr>\n",
              "            <td>F9 FT B1030</td>\n",
              "            <td>5600</td>\n",
              "            <td>Success</td>\n",
              "        </tr>\n",
              "        <tr>\n",
              "            <td>F9 FT  B1021.2</td>\n",
              "            <td>5300</td>\n",
              "            <td>Success</td>\n",
              "        </tr>\n",
              "        <tr>\n",
              "            <td>F9 FT B1032.1</td>\n",
              "            <td>5300</td>\n",
              "            <td>Success</td>\n",
              "        </tr>\n",
              "        <tr>\n",
              "            <td>F9 B4 B1040.1</td>\n",
              "            <td>4990</td>\n",
              "            <td>Success</td>\n",
              "        </tr>\n",
              "        <tr>\n",
              "            <td>F9 FT  B1031.2</td>\n",
              "            <td>5200</td>\n",
              "            <td>Success</td>\n",
              "        </tr>\n",
              "        <tr>\n",
              "            <td>F9 FT  B1032.2</td>\n",
              "            <td>4230</td>\n",
              "            <td>Success</td>\n",
              "        </tr>\n",
              "        <tr>\n",
              "            <td>F9 B4  B1040.2</td>\n",
              "            <td>5384</td>\n",
              "            <td>Success</td>\n",
              "        </tr>\n",
              "        <tr>\n",
              "            <td>F9 B5 B1046.2</td>\n",
              "            <td>5800</td>\n",
              "            <td>Success</td>\n",
              "        </tr>\n",
              "        <tr>\n",
              "            <td>F9 B5 B1047.2</td>\n",
              "            <td>5300</td>\n",
              "            <td>Success</td>\n",
              "        </tr>\n",
              "        <tr>\n",
              "            <td>F9 B5 B1048.3</td>\n",
              "            <td>4850</td>\n",
              "            <td>Success</td>\n",
              "        </tr>\n",
              "        <tr>\n",
              "            <td>F9 B5 B1051.2 </td>\n",
              "            <td>4200</td>\n",
              "            <td>Success</td>\n",
              "        </tr>\n",
              "        <tr>\n",
              "            <td>F9 B5B1060.1</td>\n",
              "            <td>4311</td>\n",
              "            <td>Success</td>\n",
              "        </tr>\n",
              "        <tr>\n",
              "            <td>F9 B5 B1058.2 </td>\n",
              "            <td>5500</td>\n",
              "            <td>Success</td>\n",
              "        </tr>\n",
              "        <tr>\n",
              "            <td>F9 B5B1062.1</td>\n",
              "            <td>4311</td>\n",
              "            <td>Success</td>\n",
              "        </tr>\n",
              "    </tbody>\n",
              "</table>"
            ]
          },
          "metadata": {},
          "execution_count": 36
        }
      ],
      "source": [
        "%sql SELECT Booster_Version, PAYLOAD_MASS__KG_,Mission_Outcome FROM SPACEXTABLE WHERE Mission_Outcome= 'Success' and PAYLOAD_MASS__KG_ < 6000 and PAYLOAD_MASS__KG_ > 4000"
      ],
      "execution_count": 36
    },
    {
      "cell_type": "markdown",
      "metadata": {
        "id": "2c82937a-d5df-4746-b3ac-1a5ab177137f"
      },
      "source": [
        "### Task 7\n",
        "\n",
        "\n",
        "\n",
        "\n",
        "##### List the total number of successful and failure mission outcomes\n"
      ]
    },
    {
      "cell_type": "code",
      "metadata": {
        "colab": {
          "base_uri": "https://localhost:8080/",
          "height": 158
        },
        "id": "6c45be1f-2dfb-4dc4-85dc-68da45059dc4",
        "outputId": "b99a690f-f1f4-4be8-b22f-bd7bb1200276"
      },
      "outputs": [
        {
          "output_type": "stream",
          "name": "stdout",
          "text": [
            " * sqlite:///my_data1.db\n",
            "Done.\n"
          ]
        },
        {
          "output_type": "execute_result",
          "data": {
            "text/plain": [
              "[('Failure (in flight)', 1),\n",
              " ('Success', 98),\n",
              " ('Success ', 1),\n",
              " ('Success (payload status unclear)', 1)]"
            ],
            "text/html": [
              "<table>\n",
              "    <thead>\n",
              "        <tr>\n",
              "            <th>Mission_Outcome</th>\n",
              "            <th>count(Mission_Outcome)</th>\n",
              "        </tr>\n",
              "    </thead>\n",
              "    <tbody>\n",
              "        <tr>\n",
              "            <td>Failure (in flight)</td>\n",
              "            <td>1</td>\n",
              "        </tr>\n",
              "        <tr>\n",
              "            <td>Success</td>\n",
              "            <td>98</td>\n",
              "        </tr>\n",
              "        <tr>\n",
              "            <td>Success </td>\n",
              "            <td>1</td>\n",
              "        </tr>\n",
              "        <tr>\n",
              "            <td>Success (payload status unclear)</td>\n",
              "            <td>1</td>\n",
              "        </tr>\n",
              "    </tbody>\n",
              "</table>"
            ]
          },
          "metadata": {},
          "execution_count": 48
        }
      ],
      "source": [
        "%sql SELECT Mission_Outcome, count(Mission_Outcome) FROM SPACEXTABLE group by Mission_Outcome"
      ],
      "execution_count": 48
    },
    {
      "cell_type": "markdown",
      "metadata": {
        "id": "e0bfa782-af12-4d6f-b00f-07036c81ebc6"
      },
      "source": [
        "### Task 8\n",
        "\n",
        "\n",
        "\n",
        "##### List the   names of the booster_versions which have carried the maximum payload mass. Use a subquery\n"
      ]
    },
    {
      "cell_type": "code",
      "metadata": {
        "colab": {
          "base_uri": "https://localhost:8080/",
          "height": 494
        },
        "id": "9a534495-bac1-431d-b43a-f5d552f8ec52",
        "outputId": "f3e8a01e-b2e0-4fb7-8767-5f80eb7b0f63"
      },
      "outputs": [
        {
          "output_type": "stream",
          "name": "stdout",
          "text": [
            " * sqlite:///my_data1.db\n",
            "Done.\n"
          ]
        },
        {
          "output_type": "execute_result",
          "data": {
            "text/plain": [
              "[('F9 B5 B1060.3', 15600),\n",
              " ('F9 B5 B1060.2 ', 15600),\n",
              " ('F9 B5 B1058.3 ', 15600),\n",
              " ('F9 B5 B1056.4', 15600),\n",
              " ('F9 B5 B1051.6', 15600),\n",
              " ('F9 B5 B1051.4', 15600),\n",
              " ('F9 B5 B1051.3', 15600),\n",
              " ('F9 B5 B1049.7 ', 15600),\n",
              " ('F9 B5 B1049.5', 15600),\n",
              " ('F9 B5 B1049.4', 15600),\n",
              " ('F9 B5 B1048.5', 15600),\n",
              " ('F9 B5 B1048.4', 15600),\n",
              " ('F9 B5 B1049.6', 15440),\n",
              " ('F9 B5 B1059.3', 15410),\n",
              " ('F9 B5 B1051.5', 14932),\n",
              " ('F9 B5 B1049.3', 13620),\n",
              " ('F9 B5B1058.1 ', 12530),\n",
              " ('F9 B5B1061.1 ', 12500),\n",
              " ('F9 B5B1051.1', 12055),\n",
              " ('F9 B5 B1046.4', 12050)]"
            ],
            "text/html": [
              "<table>\n",
              "    <thead>\n",
              "        <tr>\n",
              "            <th>Booster_Version</th>\n",
              "            <th>PAYLOAD_MASS__KG_</th>\n",
              "        </tr>\n",
              "    </thead>\n",
              "    <tbody>\n",
              "        <tr>\n",
              "            <td>F9 B5 B1060.3</td>\n",
              "            <td>15600</td>\n",
              "        </tr>\n",
              "        <tr>\n",
              "            <td>F9 B5 B1060.2 </td>\n",
              "            <td>15600</td>\n",
              "        </tr>\n",
              "        <tr>\n",
              "            <td>F9 B5 B1058.3 </td>\n",
              "            <td>15600</td>\n",
              "        </tr>\n",
              "        <tr>\n",
              "            <td>F9 B5 B1056.4</td>\n",
              "            <td>15600</td>\n",
              "        </tr>\n",
              "        <tr>\n",
              "            <td>F9 B5 B1051.6</td>\n",
              "            <td>15600</td>\n",
              "        </tr>\n",
              "        <tr>\n",
              "            <td>F9 B5 B1051.4</td>\n",
              "            <td>15600</td>\n",
              "        </tr>\n",
              "        <tr>\n",
              "            <td>F9 B5 B1051.3</td>\n",
              "            <td>15600</td>\n",
              "        </tr>\n",
              "        <tr>\n",
              "            <td>F9 B5 B1049.7 </td>\n",
              "            <td>15600</td>\n",
              "        </tr>\n",
              "        <tr>\n",
              "            <td>F9 B5 B1049.5</td>\n",
              "            <td>15600</td>\n",
              "        </tr>\n",
              "        <tr>\n",
              "            <td>F9 B5 B1049.4</td>\n",
              "            <td>15600</td>\n",
              "        </tr>\n",
              "        <tr>\n",
              "            <td>F9 B5 B1048.5</td>\n",
              "            <td>15600</td>\n",
              "        </tr>\n",
              "        <tr>\n",
              "            <td>F9 B5 B1048.4</td>\n",
              "            <td>15600</td>\n",
              "        </tr>\n",
              "        <tr>\n",
              "            <td>F9 B5 B1049.6</td>\n",
              "            <td>15440</td>\n",
              "        </tr>\n",
              "        <tr>\n",
              "            <td>F9 B5 B1059.3</td>\n",
              "            <td>15410</td>\n",
              "        </tr>\n",
              "        <tr>\n",
              "            <td>F9 B5 B1051.5</td>\n",
              "            <td>14932</td>\n",
              "        </tr>\n",
              "        <tr>\n",
              "            <td>F9 B5 B1049.3</td>\n",
              "            <td>13620</td>\n",
              "        </tr>\n",
              "        <tr>\n",
              "            <td>F9 B5B1058.1 </td>\n",
              "            <td>12530</td>\n",
              "        </tr>\n",
              "        <tr>\n",
              "            <td>F9 B5B1061.1 </td>\n",
              "            <td>12500</td>\n",
              "        </tr>\n",
              "        <tr>\n",
              "            <td>F9 B5B1051.1</td>\n",
              "            <td>12055</td>\n",
              "        </tr>\n",
              "        <tr>\n",
              "            <td>F9 B5 B1046.4</td>\n",
              "            <td>12050</td>\n",
              "        </tr>\n",
              "    </tbody>\n",
              "</table>"
            ]
          },
          "metadata": {},
          "execution_count": 65
        }
      ],
      "source": [
        "%sql SELECT Booster_Version, PAYLOAD_MASS__KG_ FROM SPACEXTABLE GROUP BY Booster_Version order by PAYLOAD_MASS__KG_ desc limit 20"
      ],
      "execution_count": 65
    },
    {
      "cell_type": "markdown",
      "metadata": {
        "id": "5ba257fa-d385-4807-a65c-605cdd4a524e"
      },
      "source": [
        "### Task 9\n",
        "\n",
        "\n",
        "##### List the records which will display the month names, failure landing_outcomes in drone ship ,booster versions, launch_site for the months in year 2015.\n",
        "\n",
        "**Note: SQLLite does not support monthnames. So you need to use  substr(Date, 6,2) as month to get the months and substr(Date,0,5)='2015' for year.**\n"
      ]
    },
    {
      "cell_type": "code",
      "metadata": {
        "colab": {
          "base_uri": "https://localhost:8080/",
          "height": 116
        },
        "id": "8e0fa5c8-50ca-49e7-aea9-30d7353aa322",
        "outputId": "5cc07b9a-0a62-4e88-dc28-1060fefc9258"
      },
      "outputs": [
        {
          "output_type": "stream",
          "name": "stdout",
          "text": [
            " * sqlite:///my_data1.db\n",
            "Done.\n"
          ]
        },
        {
          "output_type": "execute_result",
          "data": {
            "text/plain": [
              "[('01', 'Failure (drone ship)', 'F9 v1.1 B1012', 'CCAFS LC-40'),\n",
              " ('04', 'Failure (drone ship)', 'F9 v1.1 B1015', 'CCAFS LC-40')]"
            ],
            "text/html": [
              "<table>\n",
              "    <thead>\n",
              "        <tr>\n",
              "            <th>substr(Date,6,2)</th>\n",
              "            <th>Landing_Outcome</th>\n",
              "            <th>Booster_Version</th>\n",
              "            <th>Launch_Site</th>\n",
              "        </tr>\n",
              "    </thead>\n",
              "    <tbody>\n",
              "        <tr>\n",
              "            <td>01</td>\n",
              "            <td>Failure (drone ship)</td>\n",
              "            <td>F9 v1.1 B1012</td>\n",
              "            <td>CCAFS LC-40</td>\n",
              "        </tr>\n",
              "        <tr>\n",
              "            <td>04</td>\n",
              "            <td>Failure (drone ship)</td>\n",
              "            <td>F9 v1.1 B1015</td>\n",
              "            <td>CCAFS LC-40</td>\n",
              "        </tr>\n",
              "    </tbody>\n",
              "</table>"
            ]
          },
          "metadata": {},
          "execution_count": 73
        }
      ],
      "source": [
        "%sql SELECT substr(Date,6,2), Landing_Outcome, Booster_Version, Launch_Site FROM SPACEXTABLE WHERE substr(Date,0,5)='2015' and Landing_Outcome like '%Failure%'"
      ],
      "execution_count": 73
    },
    {
      "cell_type": "code",
      "source": [
        "%sql SELECT * FROM SPACEXTABLE LIMIT 10"
      ],
      "metadata": {
        "colab": {
          "base_uri": "https://localhost:8080/",
          "height": 284
        },
        "id": "mloL-MrQS806",
        "outputId": "af40aadd-b3dc-4009-ddc1-10c09ec61180"
      },
      "execution_count": 66,
      "outputs": [
        {
          "output_type": "stream",
          "name": "stdout",
          "text": [
            " * sqlite:///my_data1.db\n",
            "Done.\n"
          ]
        },
        {
          "output_type": "execute_result",
          "data": {
            "text/plain": [
              "[('2010-06-04', '18:45:00', 'F9 v1.0  B0003', 'CCAFS LC-40', 'Dragon Spacecraft Qualification Unit', 0, 'LEO', 'SpaceX', 'Success', 'Failure (parachute)'),\n",
              " ('2010-12-08', '15:43:00', 'F9 v1.0  B0004', 'CCAFS LC-40', 'Dragon demo flight C1, two CubeSats, barrel of Brouere cheese', 0, 'LEO (ISS)', 'NASA (COTS) NRO', 'Success', 'Failure (parachute)'),\n",
              " ('2012-05-22', '7:44:00', 'F9 v1.0  B0005', 'CCAFS LC-40', 'Dragon demo flight C2', 525, 'LEO (ISS)', 'NASA (COTS)', 'Success', 'No attempt'),\n",
              " ('2012-10-08', '0:35:00', 'F9 v1.0  B0006', 'CCAFS LC-40', 'SpaceX CRS-1', 500, 'LEO (ISS)', 'NASA (CRS)', 'Success', 'No attempt'),\n",
              " ('2013-03-01', '15:10:00', 'F9 v1.0  B0007', 'CCAFS LC-40', 'SpaceX CRS-2', 677, 'LEO (ISS)', 'NASA (CRS)', 'Success', 'No attempt'),\n",
              " ('2013-09-29', '16:00:00', 'F9 v1.1  B1003', 'VAFB SLC-4E', 'CASSIOPE', 500, 'Polar LEO', 'MDA', 'Success', 'Uncontrolled (ocean)'),\n",
              " ('2013-12-03', '22:41:00', 'F9 v1.1', 'CCAFS LC-40', 'SES-8', 3170, 'GTO', 'SES', 'Success', 'No attempt'),\n",
              " ('2014-01-06', '22:06:00', 'F9 v1.1', 'CCAFS LC-40', 'Thaicom 6', 3325, 'GTO', 'Thaicom', 'Success', 'No attempt'),\n",
              " ('2014-04-18', '19:25:00', 'F9 v1.1', 'CCAFS LC-40', 'SpaceX CRS-3', 2296, 'LEO (ISS)', 'NASA (CRS)', 'Success', 'Controlled (ocean)'),\n",
              " ('2014-07-14', '15:15:00', 'F9 v1.1', 'CCAFS LC-40', 'OG2 Mission 1  6 Orbcomm-OG2 satellites', 1316, 'LEO', 'Orbcomm', 'Success', 'Controlled (ocean)')]"
            ],
            "text/html": [
              "<table>\n",
              "    <thead>\n",
              "        <tr>\n",
              "            <th>Date</th>\n",
              "            <th>Time (UTC)</th>\n",
              "            <th>Booster_Version</th>\n",
              "            <th>Launch_Site</th>\n",
              "            <th>Payload</th>\n",
              "            <th>PAYLOAD_MASS__KG_</th>\n",
              "            <th>Orbit</th>\n",
              "            <th>Customer</th>\n",
              "            <th>Mission_Outcome</th>\n",
              "            <th>Landing_Outcome</th>\n",
              "        </tr>\n",
              "    </thead>\n",
              "    <tbody>\n",
              "        <tr>\n",
              "            <td>2010-06-04</td>\n",
              "            <td>18:45:00</td>\n",
              "            <td>F9 v1.0  B0003</td>\n",
              "            <td>CCAFS LC-40</td>\n",
              "            <td>Dragon Spacecraft Qualification Unit</td>\n",
              "            <td>0</td>\n",
              "            <td>LEO</td>\n",
              "            <td>SpaceX</td>\n",
              "            <td>Success</td>\n",
              "            <td>Failure (parachute)</td>\n",
              "        </tr>\n",
              "        <tr>\n",
              "            <td>2010-12-08</td>\n",
              "            <td>15:43:00</td>\n",
              "            <td>F9 v1.0  B0004</td>\n",
              "            <td>CCAFS LC-40</td>\n",
              "            <td>Dragon demo flight C1, two CubeSats, barrel of Brouere cheese</td>\n",
              "            <td>0</td>\n",
              "            <td>LEO (ISS)</td>\n",
              "            <td>NASA (COTS) NRO</td>\n",
              "            <td>Success</td>\n",
              "            <td>Failure (parachute)</td>\n",
              "        </tr>\n",
              "        <tr>\n",
              "            <td>2012-05-22</td>\n",
              "            <td>7:44:00</td>\n",
              "            <td>F9 v1.0  B0005</td>\n",
              "            <td>CCAFS LC-40</td>\n",
              "            <td>Dragon demo flight C2</td>\n",
              "            <td>525</td>\n",
              "            <td>LEO (ISS)</td>\n",
              "            <td>NASA (COTS)</td>\n",
              "            <td>Success</td>\n",
              "            <td>No attempt</td>\n",
              "        </tr>\n",
              "        <tr>\n",
              "            <td>2012-10-08</td>\n",
              "            <td>0:35:00</td>\n",
              "            <td>F9 v1.0  B0006</td>\n",
              "            <td>CCAFS LC-40</td>\n",
              "            <td>SpaceX CRS-1</td>\n",
              "            <td>500</td>\n",
              "            <td>LEO (ISS)</td>\n",
              "            <td>NASA (CRS)</td>\n",
              "            <td>Success</td>\n",
              "            <td>No attempt</td>\n",
              "        </tr>\n",
              "        <tr>\n",
              "            <td>2013-03-01</td>\n",
              "            <td>15:10:00</td>\n",
              "            <td>F9 v1.0  B0007</td>\n",
              "            <td>CCAFS LC-40</td>\n",
              "            <td>SpaceX CRS-2</td>\n",
              "            <td>677</td>\n",
              "            <td>LEO (ISS)</td>\n",
              "            <td>NASA (CRS)</td>\n",
              "            <td>Success</td>\n",
              "            <td>No attempt</td>\n",
              "        </tr>\n",
              "        <tr>\n",
              "            <td>2013-09-29</td>\n",
              "            <td>16:00:00</td>\n",
              "            <td>F9 v1.1  B1003</td>\n",
              "            <td>VAFB SLC-4E</td>\n",
              "            <td>CASSIOPE</td>\n",
              "            <td>500</td>\n",
              "            <td>Polar LEO</td>\n",
              "            <td>MDA</td>\n",
              "            <td>Success</td>\n",
              "            <td>Uncontrolled (ocean)</td>\n",
              "        </tr>\n",
              "        <tr>\n",
              "            <td>2013-12-03</td>\n",
              "            <td>22:41:00</td>\n",
              "            <td>F9 v1.1</td>\n",
              "            <td>CCAFS LC-40</td>\n",
              "            <td>SES-8</td>\n",
              "            <td>3170</td>\n",
              "            <td>GTO</td>\n",
              "            <td>SES</td>\n",
              "            <td>Success</td>\n",
              "            <td>No attempt</td>\n",
              "        </tr>\n",
              "        <tr>\n",
              "            <td>2014-01-06</td>\n",
              "            <td>22:06:00</td>\n",
              "            <td>F9 v1.1</td>\n",
              "            <td>CCAFS LC-40</td>\n",
              "            <td>Thaicom 6</td>\n",
              "            <td>3325</td>\n",
              "            <td>GTO</td>\n",
              "            <td>Thaicom</td>\n",
              "            <td>Success</td>\n",
              "            <td>No attempt</td>\n",
              "        </tr>\n",
              "        <tr>\n",
              "            <td>2014-04-18</td>\n",
              "            <td>19:25:00</td>\n",
              "            <td>F9 v1.1</td>\n",
              "            <td>CCAFS LC-40</td>\n",
              "            <td>SpaceX CRS-3</td>\n",
              "            <td>2296</td>\n",
              "            <td>LEO (ISS)</td>\n",
              "            <td>NASA (CRS)</td>\n",
              "            <td>Success</td>\n",
              "            <td>Controlled (ocean)</td>\n",
              "        </tr>\n",
              "        <tr>\n",
              "            <td>2014-07-14</td>\n",
              "            <td>15:15:00</td>\n",
              "            <td>F9 v1.1</td>\n",
              "            <td>CCAFS LC-40</td>\n",
              "            <td>OG2 Mission 1  6 Orbcomm-OG2 satellites</td>\n",
              "            <td>1316</td>\n",
              "            <td>LEO</td>\n",
              "            <td>Orbcomm</td>\n",
              "            <td>Success</td>\n",
              "            <td>Controlled (ocean)</td>\n",
              "        </tr>\n",
              "    </tbody>\n",
              "</table>"
            ]
          },
          "metadata": {},
          "execution_count": 66
        }
      ]
    },
    {
      "cell_type": "markdown",
      "metadata": {
        "id": "930422fd-8aeb-4f63-8679-024dc3026711"
      },
      "source": [
        "### Task 10\n",
        "\n",
        "\n",
        "\n",
        "\n",
        "##### Rank the count of landing outcomes (such as Failure (drone ship) or Success (ground pad)) between the date 2010-06-04 and 2017-03-20, in descending order.\n"
      ]
    },
    {
      "cell_type": "code",
      "metadata": {
        "colab": {
          "base_uri": "https://localhost:8080/",
          "height": 242
        },
        "id": "3dac6fb2-9cde-40b5-b30f-4777e56d5a80",
        "outputId": "973554a4-523a-4c56-b8be-a65af8427ada"
      },
      "outputs": [
        {
          "output_type": "stream",
          "name": "stdout",
          "text": [
            " * sqlite:///my_data1.db\n",
            "Done.\n"
          ]
        },
        {
          "output_type": "execute_result",
          "data": {
            "text/plain": [
              "[('No attempt', 10, '2012-05-22'),\n",
              " ('Success (drone ship)', 5, '2016-04-08'),\n",
              " ('Failure (drone ship)', 5, '2015-01-10'),\n",
              " ('Success (ground pad)', 3, '2015-12-22'),\n",
              " ('Controlled (ocean)', 3, '2014-04-18'),\n",
              " ('Uncontrolled (ocean)', 2, '2013-09-29'),\n",
              " ('Failure (parachute)', 2, '2010-06-04'),\n",
              " ('Precluded (drone ship)', 1, '2015-06-28')]"
            ],
            "text/html": [
              "<table>\n",
              "    <thead>\n",
              "        <tr>\n",
              "            <th>Landing_Outcome</th>\n",
              "            <th>Number_of_landings</th>\n",
              "            <th>Date</th>\n",
              "        </tr>\n",
              "    </thead>\n",
              "    <tbody>\n",
              "        <tr>\n",
              "            <td>No attempt</td>\n",
              "            <td>10</td>\n",
              "            <td>2012-05-22</td>\n",
              "        </tr>\n",
              "        <tr>\n",
              "            <td>Success (drone ship)</td>\n",
              "            <td>5</td>\n",
              "            <td>2016-04-08</td>\n",
              "        </tr>\n",
              "        <tr>\n",
              "            <td>Failure (drone ship)</td>\n",
              "            <td>5</td>\n",
              "            <td>2015-01-10</td>\n",
              "        </tr>\n",
              "        <tr>\n",
              "            <td>Success (ground pad)</td>\n",
              "            <td>3</td>\n",
              "            <td>2015-12-22</td>\n",
              "        </tr>\n",
              "        <tr>\n",
              "            <td>Controlled (ocean)</td>\n",
              "            <td>3</td>\n",
              "            <td>2014-04-18</td>\n",
              "        </tr>\n",
              "        <tr>\n",
              "            <td>Uncontrolled (ocean)</td>\n",
              "            <td>2</td>\n",
              "            <td>2013-09-29</td>\n",
              "        </tr>\n",
              "        <tr>\n",
              "            <td>Failure (parachute)</td>\n",
              "            <td>2</td>\n",
              "            <td>2010-06-04</td>\n",
              "        </tr>\n",
              "        <tr>\n",
              "            <td>Precluded (drone ship)</td>\n",
              "            <td>1</td>\n",
              "            <td>2015-06-28</td>\n",
              "        </tr>\n",
              "    </tbody>\n",
              "</table>"
            ]
          },
          "metadata": {},
          "execution_count": 83
        }
      ],
      "source": [
        "%sql SELECT Landing_Outcome,count(*) as Number_of_landings, Date FROM SPACEXTABLE WHERE Date between '2010-06-04' and '2017-03-20' GROUP by Landing_Outcome order by count(*) desc"
      ],
      "execution_count": 83
    },
    {
      "cell_type": "markdown",
      "metadata": {
        "id": "832351ea-ef0f-44dd-9ca9-b97419f860b2"
      },
      "source": [
        "### Reference Links\n",
        "\n",
        "* <a href =\"https://cf-courses-data.s3.us.cloud-object-storage.appdomain.cloud/IBMDeveloperSkillsNetwork-DB0201EN-SkillsNetwork/labs/Labs_Coursera_V5/labs/Lab%20-%20String%20Patterns%20-%20Sorting%20-%20Grouping/instructional-labs.md.html?origin=www.coursera.org\">Hands-on Lab : String Patterns, Sorting and Grouping</a>  \n",
        "\n",
        "*  <a  href=\"https://cf-courses-data.s3.us.cloud-object-storage.appdomain.cloud/IBMDeveloperSkillsNetwork-DB0201EN-SkillsNetwork/labs/Labs_Coursera_V5/labs/Lab%20-%20Built-in%20functions%20/Hands-on_Lab__Built-in_Functions.md.html?origin=www.coursera.org\">Hands-on Lab: Built-in functions</a>\n",
        "\n",
        "*  <a  href=\"https://cf-courses-data.s3.us.cloud-object-storage.appdomain.cloud/IBMDeveloperSkillsNetwork-DB0201EN-SkillsNetwork/labs/Labs_Coursera_V5/labs/Lab%20-%20Sub-queries%20and%20Nested%20SELECTs%20/instructional-labs.md.html?origin=www.coursera.org\">Hands-on Lab : Sub-queries and Nested SELECT Statements</a>\n",
        "\n",
        "*   <a href=\"https://cf-courses-data.s3.us.cloud-object-storage.appdomain.cloud/IBMDeveloperSkillsNetwork-DB0201EN-SkillsNetwork/labs/Module%205/DB0201EN-Week3-1-3-SQLmagic.ipynb\">Hands-on Tutorial: Accessing Databases with SQL magic</a>\n",
        "\n",
        "*  <a href= \"https://cf-courses-data.s3.us.cloud-object-storage.appdomain.cloud/IBMDeveloperSkillsNetwork-DB0201EN-SkillsNetwork/labs/Module%205/DB0201EN-Week3-1-4-Analyzing.ipynb\">Hands-on Lab: Analyzing a real World Data Set</a>\n",
        "\n",
        "\n"
      ]
    },
    {
      "cell_type": "markdown",
      "metadata": {
        "id": "21ce78f2-9c70-4227-aa5c-d0eb2185d6f1"
      },
      "source": [
        "## Author(s)\n",
        "\n",
        "<h4> Lakshmi Holla </h4>\n"
      ]
    },
    {
      "cell_type": "markdown",
      "metadata": {
        "id": "333e0967-f03e-4977-876d-c049fb802bd6"
      },
      "source": [
        "## Other Contributors\n",
        "\n",
        "<h4> Rav Ahuja </h4>\n"
      ]
    },
    {
      "cell_type": "markdown",
      "metadata": {
        "id": "65b5e2ea-3999-4450-bb25-c59b4f362939"
      },
      "source": [
        "## Change log\n",
        "| Date | Version | Changed by | Change Description |\n",
        "|------|--------|--------|---------|\n",
        "| 2021-07-09 | 0.2 |Lakshmi Holla | Changes made in magic sql|\n",
        "| 2021-05-20 | 0.1 |Lakshmi Holla | Created Initial Version |\n"
      ]
    },
    {
      "cell_type": "markdown",
      "metadata": {
        "id": "0f8b00e0-87ea-4e55-8ae7-758836ea9a86"
      },
      "source": [
        "## <h3 align=\"center\"> © IBM Corporation 2021. All rights reserved. <h3/>\n"
      ]
    }
  ],
  "metadata": {
    "kernelspec": {
      "display_name": "Python",
      "language": "python",
      "name": "conda-env-python-py"
    },
    "language_info": {
      "name": ""
    },
    "colab": {
      "provenance": []
    }
  },
  "nbformat": 4,
  "nbformat_minor": 0
}